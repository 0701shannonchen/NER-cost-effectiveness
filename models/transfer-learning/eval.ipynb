{
 "cells": [
  {
   "cell_type": "code",
   "execution_count": 1,
   "metadata": {
    "execution": {
     "iopub.execute_input": "2023-11-27T04:08:09.985593Z",
     "iopub.status.busy": "2023-11-27T04:08:09.985487Z",
     "iopub.status.idle": "2023-11-27T04:08:10.611313Z",
     "shell.execute_reply": "2023-11-27T04:08:10.610848Z"
    }
   },
   "outputs": [],
   "source": [
    "import pandas as pd\n",
    "from sklearn.metrics import precision_recall_fscore_support\n",
    "import numpy as np"
   ]
  },
  {
   "cell_type": "code",
   "execution_count": 2,
   "metadata": {
    "execution": {
     "iopub.execute_input": "2023-11-27T04:08:10.612981Z",
     "iopub.status.busy": "2023-11-27T04:08:10.612791Z",
     "iopub.status.idle": "2023-11-27T04:08:10.616418Z",
     "shell.execute_reply": "2023-11-27T04:08:10.616114Z"
    }
   },
   "outputs": [],
   "source": [
    "def get_result(path):\n",
    "    file = np.loadtxt(path,skiprows=1,delimiter=\" \",dtype=str)\n",
    "    processed_df = pd.DataFrame(file,columns=[\"token\",\"Tag\",\"Predicted_Tags\"])\n",
    "    actual_tags = processed_df['Tag']\n",
    "    predicted_tags = processed_df['Predicted_Tags']\n",
    "    count = processed_df.groupby(\"Tag\").count()[\"token\"]\n",
    "\n",
    "    # Calculate precision, recall, and F1-score for each tag\n",
    "    precision, recall, f1, _ = precision_recall_fscore_support(actual_tags, predicted_tags, average=None, labels=np.unique(actual_tags))\n",
    "\n",
    "    # Map these metrics to each unique tag\n",
    "    tag_metrics = dict()\n",
    "    unique_tags = np.unique(actual_tags)\n",
    "    for i, tag in enumerate(unique_tags):\n",
    "        tag_metrics[tag] = {\n",
    "            'precision': precision[i],\n",
    "            'recall': recall[i],\n",
    "            'f1_score': f1[i],\n",
    "            \"support\": count[tag]\n",
    "        }\n",
    "\n",
    "    stats = pd.DataFrame(tag_metrics).T\n",
    "    stats = stats[:-1]\n",
    "    print(stats)\n",
    "    #get weighted average of each column by support\n",
    "    weighted_avg = stats.apply(lambda x: np.average(x, weights=stats[\"support\"]))\n",
    "    print(weighted_avg)"
   ]
  },
  {
   "cell_type": "code",
   "execution_count": 3,
   "metadata": {
    "execution": {
     "iopub.execute_input": "2023-11-27T04:08:10.617776Z",
     "iopub.status.busy": "2023-11-27T04:08:10.617603Z",
     "iopub.status.idle": "2023-11-27T04:08:12.209232Z",
     "shell.execute_reply": "2023-11-27T04:08:12.208742Z"
    }
   },
   "outputs": [
    {
     "name": "stdout",
     "output_type": "stream",
     "text": [
      "       precision    recall  f1_score  support\n",
      "B-art   0.000000  0.000000  0.000000     86.0\n",
      "B-eve   0.750000  0.100000  0.176471     60.0\n",
      "B-geo   0.789225  0.894572  0.838603   7664.0\n",
      "B-gpe   0.916853  0.902992  0.909870   3175.0\n",
      "B-nat   0.000000  0.000000  0.000000     50.0\n",
      "B-org   0.777193  0.566062  0.655035   3913.0\n",
      "B-per   0.782110  0.804957  0.793369   3389.0\n",
      "B-tim   0.922963  0.766362  0.837404   4049.0\n",
      "I-art   0.000000  0.000000  0.000000     58.0\n",
      "I-eve   0.333333  0.018868  0.035714     53.0\n",
      "I-geo   0.750789  0.656552  0.700515   1450.0\n",
      "I-gpe   0.900000  0.461538  0.610169     39.0\n",
      "I-nat   0.000000  0.000000  0.000000     12.0\n",
      "I-org   0.753369  0.674510  0.711762   3315.0\n",
      "I-per   0.767562  0.945138  0.847145   3445.0\n",
      "I-tim   0.856000  0.576154  0.688736   1300.0\n",
      "precision       0.805706\n",
      "recall          0.779431\n",
      "f1_score        0.785567\n",
      "support      4325.906045\n",
      "dtype: float64\n"
     ]
    },
    {
     "name": "stderr",
     "output_type": "stream",
     "text": [
      "/opt/conda/lib/python3.11/site-packages/sklearn/metrics/_classification.py:1469: UndefinedMetricWarning: Precision and F-score are ill-defined and being set to 0.0 in labels with no predicted samples. Use `zero_division` parameter to control this behavior.\n",
      "  _warn_prf(average, modifier, msg_start, len(result))\n"
     ]
    }
   ],
   "source": [
    "get_result(\"finetuned-ner-spanish/18epoch/test.tsv\")"
   ]
  },
  {
   "cell_type": "code",
   "execution_count": 4,
   "metadata": {
    "execution": {
     "iopub.execute_input": "2023-11-27T04:08:12.229815Z",
     "iopub.status.busy": "2023-11-27T04:08:12.229565Z",
     "iopub.status.idle": "2023-11-27T04:08:13.843836Z",
     "shell.execute_reply": "2023-11-27T04:08:13.843352Z"
    }
   },
   "outputs": [
    {
     "name": "stdout",
     "output_type": "stream",
     "text": [
      "       precision    recall  f1_score  support\n",
      "B-art   0.000000  0.000000  0.000000     86.0\n",
      "B-eve   0.225000  0.150000  0.180000     60.0\n",
      "B-geo   0.830527  0.907359  0.867244   7664.0\n",
      "B-gpe   0.959632  0.920945  0.939891   3175.0\n",
      "B-nat   0.000000  0.000000  0.000000     50.0\n",
      "B-org   0.802141  0.631996  0.706975   3913.0\n",
      "B-per   0.827748  0.830924  0.829333   3389.0\n",
      "B-tim   0.906053  0.850333  0.877309   4049.0\n",
      "I-art   0.000000  0.000000  0.000000     58.0\n",
      "I-eve   0.214286  0.283019  0.243902     53.0\n",
      "I-geo   0.831822  0.695862  0.757792   1450.0\n",
      "I-gpe   0.888889  0.615385  0.727273     39.0\n",
      "I-nat   0.000000  0.000000  0.000000     12.0\n",
      "I-org   0.780997  0.756259  0.768429   3315.0\n",
      "I-per   0.816650  0.928302  0.868904   3445.0\n",
      "I-tim   0.864017  0.635385  0.732270   1300.0\n",
      "precision       0.836480\n",
      "recall          0.817206\n",
      "f1_score        0.823617\n",
      "support      4325.906045\n",
      "dtype: float64\n"
     ]
    },
    {
     "name": "stderr",
     "output_type": "stream",
     "text": [
      "/opt/conda/lib/python3.11/site-packages/sklearn/metrics/_classification.py:1469: UndefinedMetricWarning: Precision and F-score are ill-defined and being set to 0.0 in labels with no predicted samples. Use `zero_division` parameter to control this behavior.\n",
      "  _warn_prf(average, modifier, msg_start, len(result))\n"
     ]
    }
   ],
   "source": [
    "get_result(\"finetuned-ner-spanish/50epoch/test.tsv\")"
   ]
  },
  {
   "cell_type": "code",
   "execution_count": 5,
   "metadata": {
    "execution": {
     "iopub.execute_input": "2023-11-27T04:08:13.845398Z",
     "iopub.status.busy": "2023-11-27T04:08:13.845271Z",
     "iopub.status.idle": "2023-11-27T04:08:15.442542Z",
     "shell.execute_reply": "2023-11-27T04:08:15.442091Z"
    }
   },
   "outputs": [
    {
     "name": "stdout",
     "output_type": "stream",
     "text": [
      "       precision    recall  f1_score  support\n",
      "B-art   0.166667  0.023256  0.040816     86.0\n",
      "B-eve   0.451613  0.233333  0.307692     60.0\n",
      "B-geo   0.856214  0.910621  0.882580   7664.0\n",
      "B-gpe   0.956930  0.930709  0.943637   3175.0\n",
      "B-nat   0.700000  0.140000  0.233333     50.0\n",
      "B-org   0.829489  0.680041  0.747367   3913.0\n",
      "B-per   0.828692  0.869283  0.848502   3389.0\n",
      "B-tim   0.935826  0.871573  0.902558   4049.0\n",
      "I-art   0.052632  0.017241  0.025974     58.0\n",
      "I-eve   0.437500  0.264151  0.329412     53.0\n",
      "I-geo   0.837368  0.763448  0.798701   1450.0\n",
      "I-gpe   0.961538  0.641026  0.769231     39.0\n",
      "I-nat   1.000000  0.166667  0.285714     12.0\n",
      "I-org   0.819387  0.782805  0.800679   3315.0\n",
      "I-per   0.857973  0.899565  0.878277   3445.0\n",
      "I-tim   0.848620  0.733077  0.786628   1300.0\n",
      "precision       0.860478\n",
      "recall          0.838761\n",
      "f1_score        0.847255\n",
      "support      4325.906045\n",
      "dtype: float64\n"
     ]
    }
   ],
   "source": [
    "get_result(\"finetuned-ner-spanish/100epoch/test.tsv\")"
   ]
  },
  {
   "cell_type": "code",
   "execution_count": 6,
   "metadata": {
    "execution": {
     "iopub.execute_input": "2023-11-27T04:08:15.444000Z",
     "iopub.status.busy": "2023-11-27T04:08:15.443875Z",
     "iopub.status.idle": "2023-11-27T04:08:17.096747Z",
     "shell.execute_reply": "2023-11-27T04:08:17.096260Z"
    }
   },
   "outputs": [
    {
     "name": "stdout",
     "output_type": "stream",
     "text": [
      "       precision    recall  f1_score  support\n",
      "B-art   0.000000  0.000000  0.000000     86.0\n",
      "B-eve   0.000000  0.000000  0.000000     60.0\n",
      "B-geo   0.615602  0.824765  0.704997   7664.0\n",
      "B-gpe   0.809590  0.739213  0.772802   3175.0\n",
      "B-nat   0.000000  0.000000  0.000000     50.0\n",
      "B-org   0.371978  0.192691  0.253872   3913.0\n",
      "B-per   0.720517  0.526409  0.608355   3389.0\n",
      "B-tim   0.910702  0.634725  0.748072   4049.0\n",
      "I-art   0.000000  0.000000  0.000000     58.0\n",
      "I-eve   0.000000  0.000000  0.000000     53.0\n",
      "I-geo   0.320582  0.699310  0.439627   1450.0\n",
      "I-gpe   0.000000  0.000000  0.000000     39.0\n",
      "I-nat   0.000000  0.000000  0.000000     12.0\n",
      "I-org   0.782396  0.096531  0.171858   3315.0\n",
      "I-per   0.736543  0.790421  0.762532   3445.0\n",
      "I-tim   0.823333  0.380000  0.520000   1300.0\n",
      "precision       0.671890\n",
      "recall          0.571683\n",
      "f1_score        0.575547\n",
      "support      4325.906045\n",
      "dtype: float64\n"
     ]
    },
    {
     "name": "stderr",
     "output_type": "stream",
     "text": [
      "/opt/conda/lib/python3.11/site-packages/sklearn/metrics/_classification.py:1469: UndefinedMetricWarning: Precision and F-score are ill-defined and being set to 0.0 in labels with no predicted samples. Use `zero_division` parameter to control this behavior.\n",
      "  _warn_prf(average, modifier, msg_start, len(result))\n"
     ]
    }
   ],
   "source": [
    "get_result(\"finetuned-ner-english/19epoch/test.tsv\")"
   ]
  },
  {
   "cell_type": "code",
   "execution_count": 7,
   "metadata": {
    "execution": {
     "iopub.execute_input": "2023-11-27T04:08:17.098257Z",
     "iopub.status.busy": "2023-11-27T04:08:17.098140Z",
     "iopub.status.idle": "2023-11-27T04:08:19.470433Z",
     "shell.execute_reply": "2023-11-27T04:08:19.469956Z"
    }
   },
   "outputs": [
    {
     "name": "stdout",
     "output_type": "stream",
     "text": [
      "       precision    recall  f1_score  support\n",
      "B-art   0.000000  0.000000  0.000000     86.0\n",
      "B-eve   0.800000  0.133333  0.228571     60.0\n",
      "B-geo   0.781137  0.900183  0.836445   7664.0\n",
      "B-gpe   0.931220  0.869921  0.899528   3175.0\n",
      "B-nat   0.000000  0.000000  0.000000     50.0\n",
      "B-org   0.699336  0.565295  0.625212   3913.0\n",
      "B-per   0.787511  0.803777  0.795561   3389.0\n",
      "B-tim   0.908316  0.763398  0.829576   4049.0\n",
      "I-art   0.000000  0.000000  0.000000     58.0\n",
      "I-eve   0.000000  0.000000  0.000000     53.0\n",
      "I-geo   0.803922  0.622069  0.701400   1450.0\n",
      "I-gpe   0.736842  0.358974  0.482759     39.0\n",
      "I-nat   0.000000  0.000000  0.000000     12.0\n",
      "I-org   0.707954  0.703469  0.705704   3315.0\n",
      "I-per   0.801693  0.907112  0.851151   3445.0\n",
      "I-tim   0.806098  0.508462  0.623585   1300.0\n",
      "precision       0.793108\n",
      "recall          0.771414\n",
      "f1_score        0.776715\n",
      "support      4325.906045\n",
      "dtype: float64\n"
     ]
    },
    {
     "name": "stderr",
     "output_type": "stream",
     "text": [
      "/opt/conda/lib/python3.11/site-packages/sklearn/metrics/_classification.py:1469: UndefinedMetricWarning: Precision and F-score are ill-defined and being set to 0.0 in labels with no predicted samples. Use `zero_division` parameter to control this behavior.\n",
      "  _warn_prf(average, modifier, msg_start, len(result))\n"
     ]
    }
   ],
   "source": [
    "get_result(\"finetuned-ner-english/50epoch/test.tsv\")"
   ]
  },
  {
   "cell_type": "code",
   "execution_count": 8,
   "metadata": {
    "execution": {
     "iopub.execute_input": "2023-11-27T04:08:19.471997Z",
     "iopub.status.busy": "2023-11-27T04:08:19.471869Z",
     "iopub.status.idle": "2023-11-27T04:08:20.978838Z",
     "shell.execute_reply": "2023-11-27T04:08:20.978406Z"
    }
   },
   "outputs": [
    {
     "name": "stdout",
     "output_type": "stream",
     "text": [
      "       precision    recall  f1_score  support\n",
      "B-art   0.000000  0.000000  0.000000     86.0\n",
      "B-eve   0.290323  0.150000  0.197802     60.0\n",
      "B-geo   0.834694  0.894050  0.863353   7664.0\n",
      "B-gpe   0.939728  0.913386  0.926370   3175.0\n",
      "B-nat   0.360000  0.180000  0.240000     50.0\n",
      "B-org   0.735344  0.660363  0.695840   3913.0\n",
      "B-per   0.828775  0.822662  0.825707   3389.0\n",
      "B-tim   0.921756  0.835021  0.876247   4049.0\n",
      "I-art   0.500000  0.017241  0.033333     58.0\n",
      "I-eve   0.190476  0.150943  0.168421     53.0\n",
      "I-geo   0.804938  0.674483  0.733959   1450.0\n",
      "I-gpe   0.956522  0.564103  0.709677     39.0\n",
      "I-nat   0.384615  0.416667  0.400000     12.0\n",
      "I-org   0.734700  0.756863  0.745617   3315.0\n",
      "I-per   0.818415  0.926270  0.869009   3445.0\n",
      "I-tim   0.861996  0.624615  0.724353   1300.0\n",
      "precision       0.825323\n",
      "recall          0.812558\n",
      "f1_score        0.816195\n",
      "support      4325.906045\n",
      "dtype: float64\n"
     ]
    }
   ],
   "source": [
    "get_result(\"finetuned-ner-english/100epoch/test.tsv\")"
   ]
  }
 ],
 "metadata": {
  "language_info": {
   "codemirror_mode": {
    "name": "ipython",
    "version": 3
   },
   "file_extension": ".py",
   "mimetype": "text/x-python",
   "name": "python",
   "nbconvert_exporter": "python",
   "pygments_lexer": "ipython3",
   "version": "3.11.5"
  }
 },
 "nbformat": 4,
 "nbformat_minor": 2
}
