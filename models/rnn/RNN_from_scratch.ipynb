{
 "cells": [
  {
   "cell_type": "code",
   "execution_count": 1,
   "metadata": {
    "execution": {
     "iopub.execute_input": "2023-11-28T06:59:53.691088Z",
     "iopub.status.busy": "2023-11-28T06:59:53.690851Z",
     "iopub.status.idle": "2023-11-28T06:59:54.484503Z",
     "shell.execute_reply": "2023-11-28T06:59:54.484071Z"
    }
   },
   "outputs": [],
   "source": [
    "import pandas as pd\n",
    "import numpy as np\n",
    "from sklearn.model_selection import train_test_split\n",
    "import ast\n",
    "import matplotlib.pyplot as plt"
   ]
  },
  {
   "cell_type": "code",
   "execution_count": 2,
   "metadata": {
    "execution": {
     "iopub.execute_input": "2023-11-28T06:59:54.486752Z",
     "iopub.status.busy": "2023-11-28T06:59:54.486420Z",
     "iopub.status.idle": "2023-11-28T06:59:54.488942Z",
     "shell.execute_reply": "2023-11-28T06:59:54.488639Z"
    },
    "id": "gUQCfKRjdx9m"
   },
   "outputs": [],
   "source": [
    "def load_data(data_path):\n",
    "    df = pd.read_csv(data_path)\n",
    "    # Remove null values if any\n",
    "    df.dropna(inplace=True)\n",
    "    print(\"Number of records: \",len(df))\n",
    "    return df"
   ]
  },
  {
   "cell_type": "code",
   "execution_count": 3,
   "metadata": {
    "colab": {
     "base_uri": "https://localhost:8080/"
    },
    "execution": {
     "iopub.execute_input": "2023-11-28T06:59:54.490343Z",
     "iopub.status.busy": "2023-11-28T06:59:54.490079Z",
     "iopub.status.idle": "2023-11-28T06:59:55.931954Z",
     "shell.execute_reply": "2023-11-28T06:59:55.931509Z"
    },
    "id": "4CpyiyDieLEi",
    "outputId": "4b1c3f0b-efed-4634-bc8f-bec7269b79cb"
   },
   "outputs": [
    {
     "name": "stdout",
     "output_type": "stream",
     "text": [
      "Number of records:  47959\n"
     ]
    }
   ],
   "source": [
    "df = load_data('ner.csv')"
   ]
  },
  {
   "cell_type": "code",
   "execution_count": 4,
   "metadata": {
    "execution": {
     "iopub.execute_input": "2023-11-28T06:59:55.952448Z",
     "iopub.status.busy": "2023-11-28T06:59:55.952315Z",
     "iopub.status.idle": "2023-11-28T06:59:55.955118Z",
     "shell.execute_reply": "2023-11-28T06:59:55.954820Z"
    },
    "id": "4B8mZf7jeOOY"
   },
   "outputs": [],
   "source": [
    "def preprocess_data(df):\n",
    "    for i in range(len(df)):\n",
    "        pos = ast.literal_eval(df['POS'][i])\n",
    "        tags = ast.literal_eval(df['Tag'][i])\n",
    "        df['POS'][i] = [str(word) for word in pos]\n",
    "        df['Tag'][i] = [str(word.upper()) for word in tags]\n",
    "    return df"
   ]
  },
  {
   "cell_type": "code",
   "execution_count": 5,
   "metadata": {
    "execution": {
     "iopub.execute_input": "2023-11-28T06:59:55.956295Z",
     "iopub.status.busy": "2023-11-28T06:59:55.956189Z",
     "iopub.status.idle": "2023-11-28T07:00:11.937552Z",
     "shell.execute_reply": "2023-11-28T07:00:11.937082Z"
    },
    "id": "BZB9Cv7Ef089"
   },
   "outputs": [],
   "source": [
    "df = preprocess_data(df)"
   ]
  },
  {
   "cell_type": "code",
   "execution_count": 6,
   "metadata": {
    "execution": {
     "iopub.execute_input": "2023-11-28T07:00:11.939988Z",
     "iopub.status.busy": "2023-11-28T07:00:11.939839Z",
     "iopub.status.idle": "2023-11-28T07:00:11.943707Z",
     "shell.execute_reply": "2023-11-28T07:00:11.943373Z"
    },
    "id": "nirmKyMmf3iP"
   },
   "outputs": [],
   "source": [
    "df_final = df[['Sentence', 'Tag']]"
   ]
  },
  {
   "cell_type": "code",
   "execution_count": 7,
   "metadata": {
    "colab": {
     "base_uri": "https://localhost:8080/",
     "height": 206
    },
    "execution": {
     "iopub.execute_input": "2023-11-28T07:00:11.945104Z",
     "iopub.status.busy": "2023-11-28T07:00:11.944933Z",
     "iopub.status.idle": "2023-11-28T07:00:11.951707Z",
     "shell.execute_reply": "2023-11-28T07:00:11.951397Z"
    },
    "id": "mlGYsXrgf7s_",
    "outputId": "06002cb9-8174-4fc4-f51f-0bfa641d8b6f"
   },
   "outputs": [
    {
     "data": {
      "text/html": [
       "<div>\n",
       "<style scoped>\n",
       "    .dataframe tbody tr th:only-of-type {\n",
       "        vertical-align: middle;\n",
       "    }\n",
       "\n",
       "    .dataframe tbody tr th {\n",
       "        vertical-align: top;\n",
       "    }\n",
       "\n",
       "    .dataframe thead th {\n",
       "        text-align: right;\n",
       "    }\n",
       "</style>\n",
       "<table border=\"1\" class=\"dataframe\">\n",
       "  <thead>\n",
       "    <tr style=\"text-align: right;\">\n",
       "      <th></th>\n",
       "      <th>Sentence</th>\n",
       "      <th>Tag</th>\n",
       "    </tr>\n",
       "  </thead>\n",
       "  <tbody>\n",
       "    <tr>\n",
       "      <th>0</th>\n",
       "      <td>Thousands of demonstrators have marched throug...</td>\n",
       "      <td>[O, O, O, O, O, O, B-GEO, O, O, O, O, O, B-GEO...</td>\n",
       "    </tr>\n",
       "    <tr>\n",
       "      <th>1</th>\n",
       "      <td>Families of soldiers killed in the conflict jo...</td>\n",
       "      <td>[O, O, O, O, O, O, O, O, O, O, O, O, O, O, O, ...</td>\n",
       "    </tr>\n",
       "    <tr>\n",
       "      <th>2</th>\n",
       "      <td>They marched from the Houses of Parliament to ...</td>\n",
       "      <td>[O, O, O, O, O, O, O, O, O, O, O, B-GEO, I-GEO...</td>\n",
       "    </tr>\n",
       "    <tr>\n",
       "      <th>3</th>\n",
       "      <td>Police put the number of marchers at 10,000 wh...</td>\n",
       "      <td>[O, O, O, O, O, O, O, O, O, O, O, O, O, O, O]</td>\n",
       "    </tr>\n",
       "    <tr>\n",
       "      <th>4</th>\n",
       "      <td>The protest comes on the eve of the annual con...</td>\n",
       "      <td>[O, O, O, O, O, O, O, O, O, O, O, B-GEO, O, O,...</td>\n",
       "    </tr>\n",
       "  </tbody>\n",
       "</table>\n",
       "</div>"
      ],
      "text/plain": [
       "                                            Sentence  \\\n",
       "0  Thousands of demonstrators have marched throug...   \n",
       "1  Families of soldiers killed in the conflict jo...   \n",
       "2  They marched from the Houses of Parliament to ...   \n",
       "3  Police put the number of marchers at 10,000 wh...   \n",
       "4  The protest comes on the eve of the annual con...   \n",
       "\n",
       "                                                 Tag  \n",
       "0  [O, O, O, O, O, O, B-GEO, O, O, O, O, O, B-GEO...  \n",
       "1  [O, O, O, O, O, O, O, O, O, O, O, O, O, O, O, ...  \n",
       "2  [O, O, O, O, O, O, O, O, O, O, O, B-GEO, I-GEO...  \n",
       "3      [O, O, O, O, O, O, O, O, O, O, O, O, O, O, O]  \n",
       "4  [O, O, O, O, O, O, O, O, O, O, O, B-GEO, O, O,...  "
      ]
     },
     "execution_count": 7,
     "metadata": {},
     "output_type": "execute_result"
    }
   ],
   "source": [
    "df_final.head()"
   ]
  },
  {
   "cell_type": "markdown",
   "metadata": {
    "id": "Xwnpce1U0-KB"
   },
   "source": [
    "# data preparation"
   ]
  },
  {
   "cell_type": "code",
   "execution_count": 8,
   "metadata": {
    "execution": {
     "iopub.execute_input": "2023-11-28T07:00:11.953085Z",
     "iopub.status.busy": "2023-11-28T07:00:11.952976Z",
     "iopub.status.idle": "2023-11-28T07:00:16.636358Z",
     "shell.execute_reply": "2023-11-28T07:00:16.635960Z"
    }
   },
   "outputs": [
    {
     "name": "stdout",
     "output_type": "stream",
     "text": [
      "\u001b[33mWARNING: The directory '/home/jovyan/.cache/pip' or its parent directory is not owned or is not writable by the current user. The cache has been disabled. Check the permissions and owner of that directory. If executing pip with sudo, you should use sudo's -H flag.\u001b[0m\u001b[33m\r\n",
      "\u001b[0m\u001b[31mERROR: Could not find a version that satisfies the requirement collections (from versions: none)\u001b[0m\u001b[31m\r\n",
      "\u001b[0m\u001b[31mERROR: No matching distribution found for collections\u001b[0m\u001b[31m\r\n",
      "\u001b[0m\u001b[33mWARNING: The directory '/home/jovyan/.cache/pip' or its parent directory is not owned or is not writable by the current user. The cache has been disabled. Check the permissions and owner of that directory. If executing pip with sudo, you should use sudo's -H flag.\u001b[0m\u001b[33m\r\n",
      "\u001b[0mCollecting nltk\r\n",
      "  Downloading nltk-3.8.1-py3-none-any.whl (1.5 MB)\r\n",
      "\u001b[2K     \u001b[90m━━━━━━━━━━━━━━━━━━━━━━━━━━━━━━━━━━━━━━━━\u001b[0m \u001b[32m1.5/1.5 MB\u001b[0m \u001b[31m12.6 MB/s\u001b[0m eta \u001b[36m0:00:00\u001b[0m\r\n",
      "\u001b[?25hRequirement already satisfied: click in /opt/conda/lib/python3.11/site-packages (from nltk) (8.1.7)\r\n",
      "Requirement already satisfied: joblib in /opt/conda/lib/python3.11/site-packages (from nltk) (1.3.2)\r\n",
      "Requirement already satisfied: regex>=2021.8.3 in /opt/conda/lib/python3.11/site-packages (from nltk) (2023.10.3)\r\n",
      "Requirement already satisfied: tqdm in /opt/conda/lib/python3.11/site-packages (from nltk) (4.66.1)\r\n",
      "Installing collected packages: nltk\r\n",
      "Successfully installed nltk-3.8.1\r\n",
      "\u001b[33mWARNING: Running pip as the 'root' user can result in broken permissions and conflicting behaviour with the system package manager. It is recommended to use a virtual environment instead: https://pip.pypa.io/warnings/venv\u001b[0m\u001b[33m\r\n",
      "\u001b[0m"
     ]
    }
   ],
   "source": [
    "!pip3 install collections\n",
    "!pip3 install nltk"
   ]
  },
  {
   "cell_type": "code",
   "execution_count": 9,
   "metadata": {
    "colab": {
     "base_uri": "https://localhost:8080/"
    },
    "execution": {
     "iopub.execute_input": "2023-11-28T07:00:16.638730Z",
     "iopub.status.busy": "2023-11-28T07:00:16.638615Z",
     "iopub.status.idle": "2023-11-28T07:00:18.810899Z",
     "shell.execute_reply": "2023-11-28T07:00:18.810485Z"
    },
    "id": "mIKcS_aLgAvZ",
    "outputId": "c2e719d5-0ef5-43fd-9175-e29dcf1da874"
   },
   "outputs": [
    {
     "name": "stderr",
     "output_type": "stream",
     "text": [
      "[nltk_data] Downloading package punkt to /home/jovyan/nltk_data...\n",
      "[nltk_data]   Unzipping tokenizers/punkt.zip.\n"
     ]
    }
   ],
   "source": [
    "import torch\n",
    "import torch.nn as nn\n",
    "from torch.nn.utils.rnn import pad_sequence\n",
    "import nltk\n",
    "nltk.download('punkt')\n",
    "from nltk.tokenize import word_tokenize\n",
    "from collections import Counter\n",
    "from torch.utils.data import TensorDataset, DataLoader"
   ]
  },
  {
   "cell_type": "code",
   "execution_count": 10,
   "metadata": {
    "colab": {
     "base_uri": "https://localhost:8080/"
    },
    "execution": {
     "iopub.execute_input": "2023-11-28T07:00:18.812462Z",
     "iopub.status.busy": "2023-11-28T07:00:18.812248Z",
     "iopub.status.idle": "2023-11-28T07:00:18.887221Z",
     "shell.execute_reply": "2023-11-28T07:00:18.886768Z"
    },
    "id": "SjLrLURaF3b8",
    "outputId": "e64b4677-94b0-4fe6-c5ce-f77906d80821"
   },
   "outputs": [
    {
     "name": "stdout",
     "output_type": "stream",
     "text": [
      "Unique NER tags in the whole dataset:  {'B-GEO', 'B-ORG', 'I-GPE', 'I-ORG', 'B-NAT', 'O', 'I-TIM', 'I-NAT', 'B-ART', 'I-ART', 'B-PER', 'I-EVE', 'B-EVE', 'I-GEO', 'B-GPE', 'I-PER', 'B-TIM'}\n"
     ]
    }
   ],
   "source": [
    "targets = list(df_final.Tag.values)\n",
    "tags = set([val for sublist in targets for val in sublist])\n",
    "print('Unique NER tags in the whole dataset: ', tags)"
   ]
  },
  {
   "cell_type": "code",
   "execution_count": 11,
   "metadata": {
    "colab": {
     "base_uri": "https://localhost:8080/"
    },
    "execution": {
     "iopub.execute_input": "2023-11-28T07:00:18.888635Z",
     "iopub.status.busy": "2023-11-28T07:00:18.888511Z",
     "iopub.status.idle": "2023-11-28T07:00:25.913034Z",
     "shell.execute_reply": "2023-11-28T07:00:25.912551Z"
    },
    "id": "WW6wfnj0gP94",
    "outputId": "1e7e77d0-cf4a-4b4a-ad6b-62039bcd0c7f"
   },
   "outputs": [
    {
     "name": "stdout",
     "output_type": "stream",
     "text": [
      "Found 35165 unique tokens\n"
     ]
    }
   ],
   "source": [
    "# convert sentences to sequences using the built vocabulary, then to tensors\n",
    "# build vocabulary from the entire dataset\n",
    "\n",
    "tokenized_sentences = [word_tokenize(sentence) for sentence in df_final['Sentence']]\n",
    "word_counts = Counter(word for sentence in tokenized_sentences for word in sentence)\n",
    "vocab = {word: index for index, (word, _) in enumerate(word_counts.most_common(), 1)}\n",
    "print('Found %s unique tokens'%len(vocab))\n",
    "\n",
    "sentences = [word_tokenize(sentence) for sentence in df_final['Sentence']]\n",
    "sequences = [[vocab[word] for word in sentence] for sentence in sentences]\n",
    "inputs = [torch.tensor(sequence, dtype=torch.long) for sequence in sequences]"
   ]
  },
  {
   "cell_type": "code",
   "execution_count": 12,
   "metadata": {
    "execution": {
     "iopub.execute_input": "2023-11-28T07:00:25.915082Z",
     "iopub.status.busy": "2023-11-28T07:00:25.914966Z",
     "iopub.status.idle": "2023-11-28T07:00:26.556784Z",
     "shell.execute_reply": "2023-11-28T07:00:26.556289Z"
    },
    "id": "3Gtst6N4gUeR"
   },
   "outputs": [],
   "source": [
    "# would extend the shorter tensors to the longest\n",
    "max_seq_length = max(len(seq) for seq in inputs)\n",
    "inputs_final = torch.stack([torch.cat([seq, torch.zeros(max_seq_length - len(seq), dtype=torch.long)]) for seq in inputs])"
   ]
  },
  {
   "cell_type": "code",
   "execution_count": 13,
   "metadata": {
    "colab": {
     "base_uri": "https://localhost:8080/"
    },
    "execution": {
     "iopub.execute_input": "2023-11-28T07:00:26.558790Z",
     "iopub.status.busy": "2023-11-28T07:00:26.558655Z",
     "iopub.status.idle": "2023-11-28T07:00:26.561040Z",
     "shell.execute_reply": "2023-11-28T07:00:26.560712Z"
    },
    "id": "et6h4byYggo-",
    "outputId": "cac1af22-e069-41fa-a54c-44834f96a445"
   },
   "outputs": [
    {
     "name": "stdout",
     "output_type": "stream",
     "text": [
      "torch.Size([47959, 104])\n"
     ]
    }
   ],
   "source": [
    "print(inputs_final.shape)"
   ]
  },
  {
   "cell_type": "code",
   "execution_count": 14,
   "metadata": {
    "colab": {
     "base_uri": "https://localhost:8080/"
    },
    "execution": {
     "iopub.execute_input": "2023-11-28T07:00:26.562374Z",
     "iopub.status.busy": "2023-11-28T07:00:26.562264Z",
     "iopub.status.idle": "2023-11-28T07:00:27.092129Z",
     "shell.execute_reply": "2023-11-28T07:00:27.091697Z"
    },
    "id": "rg8bB4cVhm90",
    "outputId": "ce38088b-48ae-4b32-bcdc-dc525a83625f"
   },
   "outputs": [
    {
     "name": "stdout",
     "output_type": "stream",
     "text": [
      "torch.Size([47959, 104])\n"
     ]
    }
   ],
   "source": [
    "# convert targets to sequences then to tensors\n",
    "tgt_vocab = {'O': 0, 'B-GEO': 1, 'B-TIM': 2, 'B-ORG': 3, 'I-PER': 4, 'B-PER': 5, 'I-ORG': 6, 'B-GPE': 7, 'I-GEO': 8, 'I-TIM': 9, 'B-ART': 10, 'B-EVE': 11, 'I-ART': 12, 'I-EVE': 13, 'B-NAT': 14, 'I-GPE': 15, 'I-NAT': 16}\n",
    "\n",
    "tgt_seq = [[tgt_vocab[tgt] for tgt in tgt_row] for tgt_row in targets]\n",
    "outputs = [torch.tensor(seq, dtype=torch.long) for seq in tgt_seq]\n",
    "outputs_final = torch.stack([torch.cat([seq, torch.zeros(max_seq_length - len(seq), dtype=torch.long)]) for seq in outputs])\n",
    "print(outputs_final.shape)"
   ]
  },
  {
   "cell_type": "code",
   "execution_count": 15,
   "metadata": {
    "colab": {
     "base_uri": "https://localhost:8080/"
    },
    "execution": {
     "iopub.execute_input": "2023-11-28T07:00:27.093485Z",
     "iopub.status.busy": "2023-11-28T07:00:27.093372Z",
     "iopub.status.idle": "2023-11-28T07:00:27.476731Z",
     "shell.execute_reply": "2023-11-28T07:00:27.476308Z"
    },
    "id": "nKX8aAYXpiJf",
    "outputId": "8a99f3ce-b15d-4d21-f578-2102b940621c"
   },
   "outputs": [
    {
     "name": "stdout",
     "output_type": "stream",
     "text": [
      "torch.Size([47959, 104, 17])\n"
     ]
    }
   ],
   "source": [
    "onehot_labels = nn.functional.one_hot(outputs_final, num_classes=17).float()\n",
    "print(onehot_labels.shape)"
   ]
  },
  {
   "cell_type": "code",
   "execution_count": 16,
   "metadata": {
    "colab": {
     "base_uri": "https://localhost:8080/"
    },
    "execution": {
     "iopub.execute_input": "2023-11-28T07:00:27.478225Z",
     "iopub.status.busy": "2023-11-28T07:00:27.478068Z",
     "iopub.status.idle": "2023-11-28T07:00:27.481487Z",
     "shell.execute_reply": "2023-11-28T07:00:27.481173Z"
    },
    "id": "VfrlCf6dKaeb",
    "outputId": "1bd23df5-b3b3-4a31-c507-68db446e80c2"
   },
   "outputs": [
    {
     "name": "stdout",
     "output_type": "stream",
     "text": [
      "28775 9592 9592 28775 9592 9592\n"
     ]
    }
   ],
   "source": [
    "train_ratio = 0.6\n",
    "val_ratio = 0.2\n",
    "test_ratio = 0.2\n",
    "total_samples = inputs_final.size(0)\n",
    "train_split = int(total_samples * train_ratio)\n",
    "val_split = int(total_samples * (train_ratio + val_ratio))\n",
    "\n",
    "train_inputs, val_inputs, test_inputs = inputs_final[:train_split], inputs_final[train_split:val_split], inputs_final[val_split:]\n",
    "train_outputs, val_outputs, test_outputs = onehot_labels[:train_split], onehot_labels[train_split:val_split], onehot_labels[val_split:]\n",
    "print(len(train_inputs), len(val_inputs), len(test_inputs), len(train_outputs), len(val_outputs), len(test_outputs))"
   ]
  },
  {
   "cell_type": "code",
   "execution_count": 17,
   "metadata": {
    "execution": {
     "iopub.execute_input": "2023-11-28T07:00:27.482776Z",
     "iopub.status.busy": "2023-11-28T07:00:27.482595Z",
     "iopub.status.idle": "2023-11-28T07:00:27.484975Z",
     "shell.execute_reply": "2023-11-28T07:00:27.484680Z"
    },
    "id": "zorV7gz0b-U4"
   },
   "outputs": [],
   "source": [
    "batch_size = 64\n",
    "train_loader = DataLoader(TensorDataset(train_inputs, train_outputs), batch_size=batch_size, shuffle=True)\n",
    "val_loader = DataLoader(TensorDataset(val_inputs, val_outputs), batch_size=batch_size, shuffle=False)\n",
    "test_loader = DataLoader(TensorDataset(test_inputs, test_outputs), batch_size=batch_size, shuffle=False)"
   ]
  },
  {
   "cell_type": "code",
   "execution_count": 18,
   "metadata": {
    "colab": {
     "base_uri": "https://localhost:8080/"
    },
    "execution": {
     "iopub.execute_input": "2023-11-28T07:00:27.486139Z",
     "iopub.status.busy": "2023-11-28T07:00:27.485991Z",
     "iopub.status.idle": "2023-11-28T07:00:27.488503Z",
     "shell.execute_reply": "2023-11-28T07:00:27.488218Z"
    },
    "id": "fN7Gi33MftYT",
    "outputId": "482ff964-33a3-401e-ef39-196d035c53df"
   },
   "outputs": [
    {
     "data": {
      "text/plain": [
       "(450, 150, 150)"
      ]
     },
     "execution_count": 18,
     "metadata": {},
     "output_type": "execute_result"
    }
   ],
   "source": [
    "len(train_loader), len(val_loader), len(test_loader)"
   ]
  },
  {
   "cell_type": "markdown",
   "metadata": {
    "id": "15rNORtc1ARv"
   },
   "source": [
    "# model definition"
   ]
  },
  {
   "cell_type": "code",
   "execution_count": 19,
   "metadata": {
    "colab": {
     "base_uri": "https://localhost:8080/"
    },
    "execution": {
     "iopub.execute_input": "2023-11-28T07:00:27.489677Z",
     "iopub.status.busy": "2023-11-28T07:00:27.489538Z",
     "iopub.status.idle": "2023-11-28T07:00:30.189845Z",
     "shell.execute_reply": "2023-11-28T07:00:30.189388Z"
    },
    "id": "41kRX6dD_O1e",
    "outputId": "c98149aa-079e-4bcf-f573-f5e8020b9ea4"
   },
   "outputs": [
    {
     "name": "stdout",
     "output_type": "stream",
     "text": [
      "\u001b[33mWARNING: The directory '/home/jovyan/.cache/pip' or its parent directory is not owned or is not writable by the current user. The cache has been disabled. Check the permissions and owner of that directory. If executing pip with sudo, you should use sudo's -H flag.\u001b[0m\u001b[33m\r\n",
      "\u001b[0mCollecting torchinfo\r\n",
      "  Obtaining dependency information for torchinfo from https://files.pythonhosted.org/packages/72/25/973bd6128381951b23cdcd8a9870c6dcfc5606cb864df8eabd82e529f9c1/torchinfo-1.8.0-py3-none-any.whl.metadata\r\n",
      "  Downloading torchinfo-1.8.0-py3-none-any.whl.metadata (21 kB)\r\n",
      "Downloading torchinfo-1.8.0-py3-none-any.whl (23 kB)\r\n",
      "Installing collected packages: torchinfo\r\n",
      "Successfully installed torchinfo-1.8.0\r\n",
      "\u001b[33mWARNING: Running pip as the 'root' user can result in broken permissions and conflicting behaviour with the system package manager. It is recommended to use a virtual environment instead: https://pip.pypa.io/warnings/venv\u001b[0m\u001b[33m\r\n",
      "\u001b[0m"
     ]
    }
   ],
   "source": [
    "!pip3 install torchinfo"
   ]
  },
  {
   "cell_type": "code",
   "execution_count": 20,
   "metadata": {
    "execution": {
     "iopub.execute_input": "2023-11-28T07:00:30.191692Z",
     "iopub.status.busy": "2023-11-28T07:00:30.191574Z",
     "iopub.status.idle": "2023-11-28T07:00:30.196371Z",
     "shell.execute_reply": "2023-11-28T07:00:30.196122Z"
    },
    "id": "TKUO1Kz4lJUf"
   },
   "outputs": [],
   "source": [
    "import torch\n",
    "import torch.nn as nn\n",
    "from torchinfo import summary"
   ]
  },
  {
   "cell_type": "code",
   "execution_count": 21,
   "metadata": {
    "execution": {
     "iopub.execute_input": "2023-11-28T07:00:30.197946Z",
     "iopub.status.busy": "2023-11-28T07:00:30.197674Z",
     "iopub.status.idle": "2023-11-28T07:00:30.233989Z",
     "shell.execute_reply": "2023-11-28T07:00:30.233683Z"
    },
    "id": "AACmqEbe4GYm"
   },
   "outputs": [],
   "source": [
    "device = torch.device(\"cuda\" if torch.cuda.is_available() else \"cpu\")"
   ]
  },
  {
   "cell_type": "code",
   "execution_count": 22,
   "metadata": {
    "colab": {
     "base_uri": "https://localhost:8080/"
    },
    "execution": {
     "iopub.execute_input": "2023-11-28T07:00:30.235420Z",
     "iopub.status.busy": "2023-11-28T07:00:30.235194Z",
     "iopub.status.idle": "2023-11-28T07:00:31.775931Z",
     "shell.execute_reply": "2023-11-28T07:00:31.775611Z"
    },
    "id": "XHdunzbt1Byb",
    "outputId": "86b12717-4be2-4767-8f34-a2834d2844f2"
   },
   "outputs": [
    {
     "data": {
      "text/plain": [
       "RecNet(\n",
       "  (embedding): Embedding(35165, 300)\n",
       "  (lstm): LSTM(300, 100, num_layers=2, batch_first=True, bidirectional=True)\n",
       "  (fc): Linear(in_features=200, out_features=17, bias=True)\n",
       ")"
      ]
     },
     "execution_count": 22,
     "metadata": {},
     "output_type": "execute_result"
    }
   ],
   "source": [
    "class RecNet(nn.Module):\n",
    "    def __init__(self, embedding_dim, vocab_size, num_labels): # max_seq_len?\n",
    "        super(RecNet, self).__init__()\n",
    "        self.embedding = nn.Embedding(vocab_size, embedding_dim)\n",
    "        self.lstm = nn.LSTM(input_size=embedding_dim, hidden_size=100, num_layers=2, bidirectional=True, batch_first=True) # lstm_units = 100\n",
    "        self.fc = nn.Linear(2 * 100, num_labels)  # Multiply by 2 for bidirectional LSTM\n",
    "\n",
    "    def forward(self, x):\n",
    "        x = x.clone().detach().to(torch.int64)\n",
    "        # x: (batch_size, seq_length)\n",
    "        x = self.embedding(x)\n",
    "        # x: (batch_size, seq_length, embedding_dim)\n",
    "        x, _ = self.lstm(x)\n",
    "        # x = x.view(-1, x.size(2)) # x: (batch_size*seq_length, hidden_size)\n",
    "        # x: (batch_size, seq_length, hidden_size)\n",
    "        x = self.fc(x)\n",
    "        # x: (batch_size, seq_length, num_labels)\n",
    "        return x\n",
    "\n",
    "model = RecNet(embedding_dim=300, vocab_size=35165, num_labels=17)\n",
    "model.to(device)"
   ]
  },
  {
   "cell_type": "code",
   "execution_count": 23,
   "metadata": {
    "colab": {
     "base_uri": "https://localhost:8080/"
    },
    "execution": {
     "iopub.execute_input": "2023-11-28T07:00:31.777273Z",
     "iopub.status.busy": "2023-11-28T07:00:31.777159Z",
     "iopub.status.idle": "2023-11-28T07:00:31.849661Z",
     "shell.execute_reply": "2023-11-28T07:00:31.849369Z"
    },
    "id": "vDATok9RUrlo",
    "outputId": "3564728d-9646-442d-9890-e95d17b08dac"
   },
   "outputs": [
    {
     "data": {
      "text/plain": [
       "==========================================================================================\n",
       "Layer (type:depth-idx)                   Output Shape              Param #\n",
       "==========================================================================================\n",
       "RecNet                                   [64, 104, 17]             --\n",
       "├─Embedding: 1-1                         [64, 104, 300]            10,549,500\n",
       "├─LSTM: 1-2                              [64, 104, 200]            563,200\n",
       "├─Linear: 1-3                            [64, 104, 17]             3,417\n",
       "==========================================================================================\n",
       "Total params: 11,116,117\n",
       "Trainable params: 11,116,117\n",
       "Non-trainable params: 0\n",
       "Total mult-adds (Units.GIGABYTES): 4.42\n",
       "==========================================================================================\n",
       "Input size (MB): 0.03\n",
       "Forward/backward pass size (MB): 27.53\n",
       "Params size (MB): 44.46\n",
       "Estimated Total Size (MB): 72.02\n",
       "=========================================================================================="
      ]
     },
     "execution_count": 23,
     "metadata": {},
     "output_type": "execute_result"
    }
   ],
   "source": [
    "summary(model, input_size=(64, 104))"
   ]
  },
  {
   "cell_type": "code",
   "execution_count": 24,
   "metadata": {
    "execution": {
     "iopub.execute_input": "2023-11-28T07:00:31.851013Z",
     "iopub.status.busy": "2023-11-28T07:00:31.850905Z",
     "iopub.status.idle": "2023-11-28T07:00:31.853000Z",
     "shell.execute_reply": "2023-11-28T07:00:31.852774Z"
    },
    "id": "ieTTKx1_VCCq"
   },
   "outputs": [],
   "source": [
    "loss_fcn = nn.CrossEntropyLoss()\n",
    "learning_rate = 0.001\n",
    "optimizer = torch.optim.Adam(model.parameters(), lr=learning_rate)"
   ]
  },
  {
   "cell_type": "markdown",
   "metadata": {
    "id": "ZuQLIQU7A_jT"
   },
   "source": [
    "# model training"
   ]
  },
  {
   "cell_type": "code",
   "execution_count": 25,
   "metadata": {
    "execution": {
     "iopub.execute_input": "2023-11-28T07:00:31.854200Z",
     "iopub.status.busy": "2023-11-28T07:00:31.854101Z",
     "iopub.status.idle": "2023-11-28T07:00:37.864672Z",
     "shell.execute_reply": "2023-11-28T07:00:37.864161Z"
    }
   },
   "outputs": [
    {
     "name": "stdout",
     "output_type": "stream",
     "text": [
      "\u001b[33mWARNING: The directory '/home/jovyan/.cache/pip' or its parent directory is not owned or is not writable by the current user. The cache has been disabled. Check the permissions and owner of that directory. If executing pip with sudo, you should use sudo's -H flag.\u001b[0m\u001b[33m\r\n",
      "\u001b[0mCollecting pyJoules\r\n",
      "  Downloading pyJoules-0.5.1-py2.py3-none-any.whl (57 kB)\r\n",
      "\u001b[2K     \u001b[90m━━━━━━━━━━━━━━━━━━━━━━━━━━━━━━━━━━━━━━━\u001b[0m \u001b[32m57.3/57.3 kB\u001b[0m \u001b[31m597.2 kB/s\u001b[0m eta \u001b[36m0:00:00\u001b[0m\r\n",
      "\u001b[?25hInstalling collected packages: pyJoules\r\n",
      "Successfully installed pyJoules-0.5.1\r\n",
      "\u001b[33mWARNING: Running pip as the 'root' user can result in broken permissions and conflicting behaviour with the system package manager. It is recommended to use a virtual environment instead: https://pip.pypa.io/warnings/venv\u001b[0m\u001b[33m\r\n",
      "\u001b[0m\u001b[33mWARNING: The directory '/home/jovyan/.cache/pip' or its parent directory is not owned or is not writable by the current user. The cache has been disabled. Check the permissions and owner of that directory. If executing pip with sudo, you should use sudo's -H flag.\u001b[0m\u001b[33m\r\n",
      "\u001b[0mCollecting pynvml\r\n",
      "  Downloading pynvml-11.5.0-py3-none-any.whl (53 kB)\r\n",
      "\u001b[2K     \u001b[90m━━━━━━━━━━━━━━━━━━━━━━━━━━━━━━━━━━━━━━━━\u001b[0m \u001b[32m53.1/53.1 kB\u001b[0m \u001b[31m1.9 MB/s\u001b[0m eta \u001b[36m0:00:00\u001b[0m\r\n",
      "\u001b[?25hInstalling collected packages: pynvml\r\n",
      "Successfully installed pynvml-11.5.0\r\n",
      "\u001b[33mWARNING: Running pip as the 'root' user can result in broken permissions and conflicting behaviour with the system package manager. It is recommended to use a virtual environment instead: https://pip.pypa.io/warnings/venv\u001b[0m\u001b[33m\r\n",
      "\u001b[0m"
     ]
    }
   ],
   "source": [
    "!pip3 install pyJoules\n",
    "!pip install pynvml"
   ]
  },
  {
   "cell_type": "code",
   "execution_count": 26,
   "metadata": {
    "execution": {
     "iopub.execute_input": "2023-11-28T07:00:37.866409Z",
     "iopub.status.busy": "2023-11-28T07:00:37.866291Z",
     "iopub.status.idle": "2023-11-28T07:00:37.869754Z",
     "shell.execute_reply": "2023-11-28T07:00:37.869513Z"
    }
   },
   "outputs": [],
   "source": [
    "def train(model, train_loader, loss_fcn, optimizer):\n",
    "    model.train()\n",
    "    running_loss = 0\n",
    "    running_acc = 0\n",
    "    for batch in train_loader:\n",
    "        inputs, labels = batch\n",
    "        inputs = inputs.to(device)\n",
    "        labels = labels.to(device)\n",
    "        optimizer.zero_grad()\n",
    "        outputs = model(inputs)\n",
    "        loss = loss_fcn(outputs, labels)\n",
    "        loss.backward()\n",
    "        optimizer.step()\n",
    "        running_loss += loss.item()\n",
    "        predicted_labels = torch.argmax(outputs, dim=-1)\n",
    "        predicted_one_hot = nn.functional.one_hot(predicted_labels, num_classes=17).float()\n",
    "        running_acc += torch.sum(torch.eq(predicted_one_hot, labels).all(dim=-1)).item()\n",
    "    return running_loss / len(train_loader), running_acc / len(train_inputs)"
   ]
  },
  {
   "cell_type": "code",
   "execution_count": 27,
   "metadata": {
    "execution": {
     "iopub.execute_input": "2023-11-28T07:00:37.871098Z",
     "iopub.status.busy": "2023-11-28T07:00:37.870928Z",
     "iopub.status.idle": "2023-11-28T07:00:37.873639Z",
     "shell.execute_reply": "2023-11-28T07:00:37.873386Z"
    }
   },
   "outputs": [],
   "source": [
    "def validate(model, val_loader, loss_fcn, optimizer):\n",
    "    model.eval()\n",
    "    running_loss = 0\n",
    "    running_acc = 0\n",
    "    with torch.no_grad():\n",
    "        for batch in val_loader:\n",
    "            inputs, labels = batch\n",
    "            inputs = inputs.to(device)\n",
    "            labels = labels.to(device)\n",
    "            outputs = model(inputs)\n",
    "            loss = loss_fcn(outputs, labels)\n",
    "            running_loss += loss.item()\n",
    "            predicted_labels = torch.argmax(outputs, dim=-1)\n",
    "            predicted_one_hot = nn.functional.one_hot(predicted_labels, num_classes=17).float()\n",
    "            running_acc += torch.sum(torch.eq(predicted_one_hot, labels).all(dim=-1)).item()\n",
    "    return running_loss / len(val_loader), running_acc / len(val_inputs)"
   ]
  },
  {
   "cell_type": "code",
   "execution_count": null,
   "metadata": {
    "execution": {
     "iopub.execute_input": "2023-11-28T07:00:37.874965Z",
     "iopub.status.busy": "2023-11-28T07:00:37.874830Z",
     "iopub.status.idle": "2023-11-28T07:03:16.200715Z",
     "shell.execute_reply": "2023-11-28T07:03:16.200244Z"
    }
   },
   "outputs": [],
   "source": [
    "from pyJoules.energy_meter import measure_energy\n",
    "from pyJoules.device.rapl_device import RaplPackageDomain\n",
    "from pyJoules.device.nvidia_device import NvidiaGPUDomain\n",
    "from pyJoules.handler.csv_handler import CSVHandler\n",
    "\n",
    "csv_handler = CSVHandler('train_energy_consumption.csv')\n",
    "\n",
    "num_epochs = 50\n",
    "patience = 3\n",
    "best_loss = float('inf')\n",
    "current_patience = 0\n",
    "train_accs = []\n",
    "val_accs = []\n",
    "train_losses = []\n",
    "val_losses = []\n",
    "\n",
    "@measure_energy(domains=[NvidiaGPUDomain(0)],handler=csv_handler)\n",
    "def wrapper_train():\n",
    "    \n",
    "    best_acc = -1\n",
    "\n",
    "    for epoch in range(num_epochs):\n",
    "        print(f\"Epoch: {epoch+1}/{num_epochs}\", end=\" \")\n",
    "        train_loss, train_acc = train(model, train_loader, loss_fcn, optimizer)\n",
    "        val_loss, val_acc = validate(model, val_loader, loss_fcn, optimizer)\n",
    "        train_losses.append(train_loss)\n",
    "        val_losses.append(val_loss)\n",
    "        train_accs.append(train_acc)\n",
    "        val_accs.append(val_acc)\n",
    "\n",
    "        print(f\"Loss: {round(train_loss, 4)} ({round(val_loss, 4)})\", end=\" \")\n",
    "        print(f\"Accuracy: {round(train_acc, 2)} ({round(val_acc, 2)})\")\n",
    "\n",
    "        if val_acc > best_acc:\n",
    "            best_acc = val_acc\n",
    "            torch.save(model.state_dict(), \"best_model.pt\")\n",
    "    return\n",
    "\n",
    "wrapper_train()\n",
    "csv_handler.save_data()"
   ]
  },
  {
   "cell_type": "code",
   "execution_count": 29,
   "metadata": {
    "execution": {
     "iopub.execute_input": "2023-11-28T07:03:16.202495Z",
     "iopub.status.busy": "2023-11-28T07:03:16.202387Z",
     "iopub.status.idle": "2023-11-28T07:03:16.420673Z",
     "shell.execute_reply": "2023-11-28T07:03:16.420312Z"
    },
    "id": "M5AznWK8DZkI"
   },
   "outputs": [
    {
     "data": {
      "text/plain": [
       "<matplotlib.legend.Legend at 0x7fe34f37bed0>"
      ]
     },
     "execution_count": 29,
     "metadata": {},
     "output_type": "execute_result"
    },
    {
     "data": {
      "image/png": "[encoded data removed]",
      "text/plain": [
       "<Figure size 640x480 with 1 Axes>"
      ]
     },
     "metadata": {},
     "output_type": "display_data"
    }
   ],
   "source": [
    "plt.plot(range(num_epochs), train_losses, label='train_loss')\n",
    "plt.plot(range(num_epochs), val_losses, label='val_loss')\n",
    "plt.title('Loss of 4-layers RNN')\n",
    "plt.xlabel('epochs')\n",
    "plt.ylabel('Multiclass Cross Entropy Loss')\n",
    "plt.legend()"
   ]
  },
  {
   "cell_type": "code",
   "execution_count": null,
   "metadata": {
    "execution": {
     "iopub.execute_input": "2023-11-28T07:03:16.422012Z",
     "iopub.status.busy": "2023-11-28T07:03:16.421907Z",
     "iopub.status.idle": "2023-11-28T07:03:16.534661Z",
     "shell.execute_reply": "2023-11-28T07:03:16.534292Z"
    },
    "id": "H8RdJid2DsmO"
   },
   "outputs": [],
   "source": [
    "plt.plot(range(num_epochs), train_accs, label='train_acc')\n",
    "plt.plot(range(num_epochs), val_accs, label='val_acc')\n",
    "plt.title('Accuracy of 4-layers RNN')\n",
    "plt.xlabel('epochs')\n",
    "plt.ylabel('Accuracy')\n",
    "plt.legend()"
   ]
  },
  {
   "cell_type": "markdown",
   "metadata": {
    "id": "XwG7LIqrEWWI"
   },
   "source": [
    "# evaluate on the test set"
   ]
  },
  {
   "cell_type": "code",
   "execution_count": 31,
   "metadata": {
    "execution": {
     "iopub.execute_input": "2023-11-28T07:03:16.535958Z",
     "iopub.status.busy": "2023-11-28T07:03:16.535853Z",
     "iopub.status.idle": "2023-11-28T07:03:16.537814Z",
     "shell.execute_reply": "2023-11-28T07:03:16.537508Z"
    },
    "id": "Mf679pf8xOjT"
   },
   "outputs": [],
   "source": [
    "from sklearn.metrics import precision_recall_fscore_support"
   ]
  },
  {
   "cell_type": "code",
   "execution_count": 32,
   "metadata": {
    "execution": {
     "iopub.execute_input": "2023-11-28T07:03:16.539281Z",
     "iopub.status.busy": "2023-11-28T07:03:16.539015Z",
     "iopub.status.idle": "2023-11-28T07:03:16.542845Z",
     "shell.execute_reply": "2023-11-28T07:03:16.542541Z"
    },
    "id": "1JxYbYRFw_lz"
   },
   "outputs": [],
   "source": [
    "def test(model, test_loader, loss_fcn, optimizer):\n",
    "    model.eval()\n",
    "    running_acc = 0\n",
    "    all_predictions = [] # [150, 64, 104, 17]\n",
    "    all_labels = []\n",
    "    with torch.no_grad():\n",
    "        for batch in test_loader:\n",
    "            inputs, labels = batch\n",
    "            inputs = inputs.to(device)\n",
    "            labels = labels.to(device)\n",
    "            outputs = model(inputs)\n",
    "            predicted_labels = torch.argmax(outputs, dim=-1)\n",
    "            predicted_one_hot = nn.functional.one_hot(predicted_labels, num_classes=17).float()\n",
    "            running_acc += torch.sum(torch.eq(predicted_one_hot, labels).all(dim=-1)).item()\n",
    "            all_predictions.extend(predicted_one_hot.cpu().numpy()) # [64, 104, 17]\n",
    "            all_labels.extend(labels.cpu().numpy()) # [64, 104, 17]\n",
    "\n",
    "    flat_all_labels = np.concatenate([arr.reshape(-1, 17) for arr in all_labels], axis=0)\n",
    "    flat_all_predictions = np.concatenate([arr.reshape(-1, 17) for arr in all_predictions], axis=0)\n",
    "\n",
    "    # flat_all_labels = torch.cat([tensor.view(-1, 17) for tensor in all_labels], dim=0)\n",
    "    # flat_all_predictions = torch.cat([tensor.view(-1, 17) for tensor in all_predictions], dim=0)\n",
    "\n",
    "\n",
    "    precision, recall, f1, _ = precision_recall_fscore_support(flat_all_labels, flat_all_predictions, average=None)\n",
    "\n",
    "\n",
    "    return running_acc / len(test_inputs), precision, recall, f1"
   ]
  },
  {
   "cell_type": "code",
   "execution_count": null,
   "metadata": {
    "execution": {
     "iopub.execute_input": "2023-11-28T07:03:16.544061Z",
     "iopub.status.busy": "2023-11-28T07:03:16.543958Z",
     "iopub.status.idle": "2023-11-28T07:03:18.958109Z",
     "shell.execute_reply": "2023-11-28T07:03:18.957638Z"
    }
   },
   "outputs": [],
   "source": [
    "csv_handler = CSVHandler('test_energy_consumption.csv')\n",
    "\n",
    "@measure_energy(domains=[NvidiaGPUDomain(0)],handler=csv_handler)\n",
    "def wrapper_test():\n",
    "    model.load_state_dict(torch.load(\"best_model.pt\"))\n",
    "    test_acc, precision, recall, f1 = test(model, val_loader, loss_fcn, optimizer)\n",
    "    print(f\"Test accuracy: {test_acc:.4f}\")\n",
    "    return precision, recall, f1\n",
    "\n",
    "precision, recall, f1 = wrapper_test()\n",
    "csv_handler.save_data()"
   ]
  },
  {
   "cell_type": "code",
   "execution_count": 34,
   "metadata": {
    "execution": {
     "iopub.execute_input": "2023-11-28T07:03:18.960156Z",
     "iopub.status.busy": "2023-11-28T07:03:18.960048Z",
     "iopub.status.idle": "2023-11-28T07:03:18.973903Z",
     "shell.execute_reply": "2023-11-28T07:03:18.973484Z"
    }
   },
   "outputs": [
    {
     "name": "stdout",
     "output_type": "stream",
     "text": [
      "0     965256\n",
      "1       7620\n",
      "3       4122\n",
      "2       4095\n",
      "5       3450\n",
      "6       3404\n",
      "4       3394\n",
      "7       3072\n",
      "8       1525\n",
      "9       1331\n",
      "10        78\n",
      "12        65\n",
      "11        50\n",
      "13        37\n",
      "14        37\n",
      "15        28\n",
      "16         4\n",
      "Name: count, dtype: int64\n"
     ]
    }
   ],
   "source": [
    "val_outputs_for_support = outputs_final[train_split:val_split]\n",
    "flat_series = pd.DataFrame(val_outputs_for_support.numpy()).stack()\n",
    "total_counts = flat_series.value_counts()\n",
    "print(total_counts)"
   ]
  },
  {
   "cell_type": "code",
   "execution_count": 35,
   "metadata": {
    "execution": {
     "iopub.execute_input": "2023-11-28T07:03:18.975240Z",
     "iopub.status.busy": "2023-11-28T07:03:18.975134Z",
     "iopub.status.idle": "2023-11-28T07:03:18.980787Z",
     "shell.execute_reply": "2023-11-28T07:03:18.980489Z"
    }
   },
   "outputs": [
    {
     "name": "stdout",
     "output_type": "stream",
     "text": [
      "       precision    recall  f1_score  support\n",
      "B-GEO   0.997858  0.996072  0.996964   7620.0\n",
      "B-ORG   0.650582  0.923622  0.763423   4122.0\n",
      "I-GPE   0.895334  0.848107  0.871081     28.0\n",
      "I-ORG   0.743704  0.565987  0.642788   3404.0\n",
      "B-NAT   0.871161  0.685327  0.767150     37.0\n",
      "I-TIM   0.800784  0.660106  0.723671   1331.0\n",
      "I-NAT   0.982931  0.768555  0.862623      4.0\n",
      "B-ART   0.552515  0.820984  0.660512     78.0\n",
      "I-ART   0.729375  0.710744  0.719939     65.0\n",
      "B-PER   0.008588  0.205128  0.016486   3450.0\n",
      "I-EVE   0.444444  0.160000  0.235294     37.0\n",
      "B-EVE   0.000000  0.000000  0.000000     50.0\n",
      "I-GEO   0.000000  0.000000  0.000000   1525.0\n",
      "B-GPE   0.135922  0.378378  0.200000   3072.0\n",
      "I-PER   0.298246  0.607143  0.400000   3394.0\n",
      "B-TIM   0.028571  0.250000  0.051282   4095.0\n"
     ]
    }
   ],
   "source": [
    "tag_metrics = dict()\n",
    "for i, tag in enumerate(tags):\n",
    "    tag_metrics[tag] = {\n",
    "        'precision': precision[i],\n",
    "        'recall': recall[i],\n",
    "        'f1_score': f1[i],\n",
    "        \"support\": total_counts[tgt_vocab[tag]]\n",
    "    }\n",
    "stats = pd.DataFrame(tag_metrics).T\n",
    "stats = stats.drop('O')\n",
    "print(stats)"
   ]
  },
  {
   "cell_type": "code",
   "execution_count": 36,
   "metadata": {
    "execution": {
     "iopub.execute_input": "2023-11-28T07:03:18.981960Z",
     "iopub.status.busy": "2023-11-28T07:03:18.981856Z",
     "iopub.status.idle": "2023-11-28T07:03:18.984719Z",
     "shell.execute_reply": "2023-11-28T07:03:18.984419Z"
    }
   },
   "outputs": [
    {
     "name": "stdout",
     "output_type": "stream",
     "text": [
      "precision       0.483641\n",
      "recall          0.598083\n",
      "f1_score        0.504366\n",
      "support      4344.639081\n",
      "dtype: float64\n"
     ]
    }
   ],
   "source": [
    "weighted_avg = stats.apply(lambda x: np.average(x, weights=stats[\"support\"]))\n",
    "print(weighted_avg)"
   ]
  }
 ],
 "metadata": {
  "colab": {
   "provenance": []
  },
  "kernelspec": {
   "display_name": "Python 3",
   "name": "python3"
  },
  "language_info": {
   "codemirror_mode": {
    "name": "ipython",
    "version": 3
   },
   "file_extension": ".py",
   "mimetype": "text/x-python",
   "name": "python",
   "nbconvert_exporter": "python",
   "pygments_lexer": "ipython3",
   "version": "3.11.5"
  }
 },
 "nbformat": 4,
 "nbformat_minor": 0
}
